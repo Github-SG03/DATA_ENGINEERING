{
 "cells": [
  {
   "cell_type": "code",
   "execution_count": null,
   "id": "c230c388",
   "metadata": {
    "vscode": {
     "languageId": "plaintext"
    }
   },
   "outputs": [],
   "source": [
    "## Example:\n",
    "\n",
    "import pandas as pd\n",
    "\n",
    "df = pd.read_parquet('../output/result.parquet')\n",
    "df.head()\n"
   ]
  },
  {
   "cell_type": "code",
   "execution_count": null,
   "metadata": {
    "vscode": {
     "languageId": "plaintext"
    }
   },
   "outputs": [],
   "source": [
    "# 1️⃣ PySpark Session Setup\n",
    "from pyspark.sql import SparkSession\n",
    "\n",
    "spark = SparkSession.builder \\\n",
    "    .appName(\"Ecommerce ETL Demo\") \\\n",
    "    .getOrCreate()\n"
   ]
  },
  {
   "cell_type": "code",
   "execution_count": null,
   "id": "b7d5d761",
   "metadata": {
    "vscode": {
     "languageId": "plaintext"
    }
   },
   "outputs": [],
   "source": [
    "# 2️⃣ Load Raw Data\n",
    "raw_orders = spark.read.csv(\"../data/raw/orders.csv\", header=True, inferSchema=True)\n",
    "raw_customers = spark.read.csv(\"../data/raw/customers.csv\", header=True, inferSchema=True)\n",
    "raw_products = spark.read.csv(\"../data/raw/products.csv\", header=True, inferSchema=True)\n",
    "\n"
   ]
  },
  {
   "cell_type": "code",
   "execution_count": null,
   "id": "1b723a4e",
   "metadata": {
    "vscode": {
     "languageId": "plaintext"
    }
   },
   "outputs": [],
   "source": [
    "# 3️⃣ Basic Data Checks\n",
    "raw_orders.printSchema()\n",
    "raw_orders.show(5)\n"
   ]
  },
  {
   "cell_type": "code",
   "execution_count": null,
   "id": "ae9e5164",
   "metadata": {
    "vscode": {
     "languageId": "plaintext"
    }
   },
   "outputs": [],
   "source": [
    "# 4️⃣ Transformations (example: filter valid orders & join with products)\n",
    "from pyspark.sql.functions import col\n",
    "\n",
    "valid_orders = raw_orders.filter(col(\"order_status\") == \"Completed\")\n",
    "\n",
    "orders_with_products = valid_orders.join(\n",
    "    raw_products,\n",
    "    on=\"product_id\",\n",
    "    how=\"left\"\n",
    ")\n"
   ]
  },
  {
   "cell_type": "code",
   "execution_count": null,
   "id": "a4ff4844",
   "metadata": {
    "vscode": {
     "languageId": "plaintext"
    }
   },
   "outputs": [],
   "source": [
    "# 5️⃣ Save Processed Output (overwrite mode for notebooks)\n",
    "orders_with_products.write.mode(\"overwrite\").parquet(\"../data/processed/orders_enriched/\")\n"
   ]
  },
  {
   "cell_type": "code",
   "execution_count": null,
   "id": "41752904",
   "metadata": {
    "vscode": {
     "languageId": "plaintext"
    }
   },
   "outputs": [],
   "source": [
    "# 6️⃣ Simple Aggregation Summary\n",
    "summary = orders_with_products.groupBy(\"product_category\").count().orderBy(\"count\", ascending=False)\n",
    "summary.show()\n"
   ]
  }
 ],
 "metadata": {
  "language_info": {
   "name": "python"
  }
 },
 "nbformat": 4,
 "nbformat_minor": 5
}
